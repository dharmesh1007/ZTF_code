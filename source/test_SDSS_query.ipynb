{
 "cells": [
  {
   "cell_type": "code",
   "execution_count": 5,
   "metadata": {},
   "outputs": [],
   "source": [
    "from astroquery.sdss import SDSS\n",
    "import numpy as np\n",
    "import astropy.coordinates as coords\n",
    "import astropy.units as u\n",
    "import matplotlib.pyplot as plt\n",
    "%matplotlib inline\n",
    "\n",
    "pos = coords.SkyCoord('0h8m05.63s +14d50m23.3s', frame='icrs')\n",
    "xid = SDSS.query_region(pos, radius='2 arcsec', spectro=False)\n",
    "xid_df = xid.to_pandas()\n",
    "xid_df.to_csv('test_SDSS_query.csv', index=False)"
   ]
  },
  {
   "cell_type": "code",
   "execution_count": 6,
   "metadata": {},
   "outputs": [],
   "source": [
    "import requests\n",
    "\n",
    "r = requests.post('http://cdsxmatch.u-strasbg.fr/xmatch/api/v1/sync',\n",
    "                  data={'request': 'xmatch', 'distMaxArcsec': 5, 'RESPONSEFORMAT': 'csv',\n",
    "         'cat2': 'vizier:II/246/out', 'colRA1': 'RAJ2000', 'colDec1': 'DEJ2000'},\n",
    "         files={'cat1': open('test_SDSS_query.csv', 'r')})\n",
    "h = open('results.csv', 'w')\n",
    "h.write(r.text)\n",
    "h.close()\n"
   ]
  },
  {
   "cell_type": "code",
   "execution_count": 11,
   "metadata": {},
   "outputs": [
    {
     "name": "stdout",
     "output_type": "stream",
     "text": [
      "Unexpected exception formatting exception. Falling back to standard exception\n"
     ]
    },
    {
     "name": "stderr",
     "output_type": "stream",
     "text": [
      "Traceback (most recent call last):\n",
      "  File \"/Users/aridmist/opt/anaconda3/envs/phd/lib/python3.9/site-packages/urllib3/connectionpool.py\", line 692, in urlopen\n",
      "    conn = self._get_conn(timeout=pool_timeout)\n",
      "  File \"/Users/aridmist/opt/anaconda3/envs/phd/lib/python3.9/site-packages/urllib3/connectionpool.py\", line 281, in _get_conn\n",
      "    return conn or self._new_conn()\n",
      "  File \"/Users/aridmist/opt/anaconda3/envs/phd/lib/python3.9/site-packages/urllib3/connectionpool.py\", line 1011, in _new_conn\n",
      "    raise SSLError(\n",
      "urllib3.exceptions.SSLError: Can't connect to HTTPS URL because the SSL module is not available.\n",
      "\n",
      "During handling of the above exception, another exception occurred:\n",
      "\n",
      "Traceback (most recent call last):\n",
      "  File \"/Users/aridmist/opt/anaconda3/envs/phd/lib/python3.9/site-packages/requests/adapters.py\", line 487, in send\n",
      "    resp = HTTPResponse.from_httplib(\n",
      "  File \"/Users/aridmist/opt/anaconda3/envs/phd/lib/python3.9/site-packages/urllib3/connectionpool.py\", line 787, in urlopen\n",
      "    retries = retries.increment(\n",
      "  File \"/Users/aridmist/opt/anaconda3/envs/phd/lib/python3.9/site-packages/urllib3/util/retry.py\", line 592, in increment\n",
      "    raise MaxRetryError(_pool, url, error or ResponseError(cause))\n",
      "urllib3.exceptions.MaxRetryError: HTTPSConnectionPool(host='api.github.com', port=443): Max retries exceeded with url: /events (Caused by SSLError(\"Can't connect to HTTPS URL because the SSL module is not available.\"))\n",
      "\n",
      "During handling of the above exception, another exception occurred:\n",
      "\n",
      "Traceback (most recent call last):\n",
      "  File \"/Users/aridmist/opt/anaconda3/envs/phd/lib/python3.9/site-packages/IPython/core/interactiveshell.py\", line 3505, in run_code\n",
      "    exec(code_obj, self.user_global_ns, self.user_ns)\n",
      "  File \"/var/folders/yq/zm05jz7s71gcr7b1vcn469p00000gq/T/ipykernel_7648/1760005797.py\", line 1, in <module>\n",
      "    r = requests.get('https://api.github.com/events')\n",
      "  File \"/Users/aridmist/opt/anaconda3/envs/phd/lib/python3.9/site-packages/requests/api.py\", line 73, in get\n",
      "    \"\"\"\n",
      "  File \"/Users/aridmist/opt/anaconda3/envs/phd/lib/python3.9/site-packages/requests/api.py\", line 59, in request\n",
      "    # cases, and look like a memory leak in others.\n",
      "  File \"/Users/aridmist/opt/anaconda3/envs/phd/lib/python3.9/site-packages/requests/sessions.py\", line 587, in request\n",
      "    \"\"\"\n",
      "  File \"/Users/aridmist/opt/anaconda3/envs/phd/lib/python3.9/site-packages/requests/sessions.py\", line 701, in send\n",
      "    env_proxies = get_environ_proxies(url, no_proxy=no_proxy)\n",
      "  File \"/Users/aridmist/opt/anaconda3/envs/phd/lib/python3.9/site-packages/requests/adapters.py\", line 518, in send\n",
      "requests.exceptions.SSLError: HTTPSConnectionPool(host='api.github.com', port=443): Max retries exceeded with url: /events (Caused by SSLError(\"Can't connect to HTTPS URL because the SSL module is not available.\"))\n",
      "\n",
      "During handling of the above exception, another exception occurred:\n",
      "\n",
      "Traceback (most recent call last):\n",
      "  File \"/Users/aridmist/opt/anaconda3/envs/phd/lib/python3.9/site-packages/IPython/core/interactiveshell.py\", line 2102, in showtraceback\n",
      "    stb = self.InteractiveTB.structured_traceback(\n",
      "  File \"/Users/aridmist/opt/anaconda3/envs/phd/lib/python3.9/site-packages/IPython/core/ultratb.py\", line 1310, in structured_traceback\n",
      "    return FormattedTB.structured_traceback(\n",
      "  File \"/Users/aridmist/opt/anaconda3/envs/phd/lib/python3.9/site-packages/IPython/core/ultratb.py\", line 1199, in structured_traceback\n",
      "    return VerboseTB.structured_traceback(\n",
      "  File \"/Users/aridmist/opt/anaconda3/envs/phd/lib/python3.9/site-packages/IPython/core/ultratb.py\", line 1052, in structured_traceback\n",
      "    formatted_exception = self.format_exception_as_a_whole(etype, evalue, etb, number_of_lines_of_context,\n",
      "  File \"/Users/aridmist/opt/anaconda3/envs/phd/lib/python3.9/site-packages/IPython/core/ultratb.py\", line 978, in format_exception_as_a_whole\n",
      "    frames.append(self.format_record(record))\n",
      "  File \"/Users/aridmist/opt/anaconda3/envs/phd/lib/python3.9/site-packages/IPython/core/ultratb.py\", line 878, in format_record\n",
      "    frame_info.lines, Colors, self.has_colors, lvals\n",
      "  File \"/Users/aridmist/opt/anaconda3/envs/phd/lib/python3.9/site-packages/IPython/core/ultratb.py\", line 712, in lines\n",
      "    return self._sd.lines\n",
      "  File \"/Users/aridmist/opt/anaconda3/envs/phd/lib/python3.9/site-packages/stack_data/utils.py\", line 145, in cached_property_wrapper\n",
      "    value = obj.__dict__[self.func.__name__] = self.func(obj)\n",
      "  File \"/Users/aridmist/opt/anaconda3/envs/phd/lib/python3.9/site-packages/stack_data/core.py\", line 698, in lines\n",
      "    pieces = self.included_pieces\n",
      "  File \"/Users/aridmist/opt/anaconda3/envs/phd/lib/python3.9/site-packages/stack_data/utils.py\", line 145, in cached_property_wrapper\n",
      "    value = obj.__dict__[self.func.__name__] = self.func(obj)\n",
      "  File \"/Users/aridmist/opt/anaconda3/envs/phd/lib/python3.9/site-packages/stack_data/core.py\", line 649, in included_pieces\n",
      "    pos = scope_pieces.index(self.executing_piece)\n",
      "  File \"/Users/aridmist/opt/anaconda3/envs/phd/lib/python3.9/site-packages/stack_data/utils.py\", line 145, in cached_property_wrapper\n",
      "    value = obj.__dict__[self.func.__name__] = self.func(obj)\n",
      "  File \"/Users/aridmist/opt/anaconda3/envs/phd/lib/python3.9/site-packages/stack_data/core.py\", line 628, in executing_piece\n",
      "    return only(\n",
      "  File \"/Users/aridmist/opt/anaconda3/envs/phd/lib/python3.9/site-packages/executing/executing.py\", line 164, in only\n",
      "    raise NotOneValueFound('Expected one value, found 0')\n",
      "executing.executing.NotOneValueFound: Expected one value, found 0\n"
     ]
    }
   ],
   "source": [
    "r = requests.get('https://api.github.com/events')\n",
    "r"
   ]
  }
 ],
 "metadata": {
  "kernelspec": {
   "display_name": "mainenv",
   "language": "python",
   "name": "python3"
  },
  "language_info": {
   "codemirror_mode": {
    "name": "ipython",
    "version": 3
   },
   "file_extension": ".py",
   "mimetype": "text/x-python",
   "name": "python",
   "nbconvert_exporter": "python",
   "pygments_lexer": "ipython3",
   "version": "3.9.16"
  },
  "orig_nbformat": 4
 },
 "nbformat": 4,
 "nbformat_minor": 2
}
