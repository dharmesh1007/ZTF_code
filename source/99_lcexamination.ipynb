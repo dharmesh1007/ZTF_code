{
 "cells": [
  {
   "cell_type": "code",
   "execution_count": 23,
   "metadata": {},
   "outputs": [],
   "source": [
    "import pandas as pd\n",
    "import os\n",
    "import pandas as pd\n",
    "from lcfunctions import download_alerce_lc, download_lasair_lc, display_lightcurve\n",
    "from lcfunctions import alerce_clean, lasair_clean, load_lasair_lc\n",
    "from raw_processing import label_schemes"
   ]
  },
  {
   "attachments": {},
   "cell_type": "markdown",
   "metadata": {},
   "source": [
    "### View dataset light curves"
   ]
  },
  {
   "cell_type": "code",
   "execution_count": 24,
   "metadata": {},
   "outputs": [
    {
     "data": {
      "text/plain": [
       "dwarf_nova_SU_UMa    630\n",
       "dwarf_nova_Z_Cam     174\n",
       "nova_like            144\n",
       "nova_like_VY_Scl     120\n",
       "dwarf_nova_U_Gem     116\n",
       "polar                114\n",
       "int_polar             49\n",
       "AMCVn                 46\n",
       "nova                  46\n",
       "Name: labels_2, dtype: int64"
      ]
     },
     "execution_count": 24,
     "metadata": {},
     "output_type": "execute_result"
    }
   ],
   "source": [
    "# Load dataset\n",
    "df_ZTF_CVs = pd.read_csv('../processed_data/AAVSOCVsZTFxmatch_21032023_BTS_manual_labelled.csv')\n",
    "df_ZTF_CVs = label_schemes(df_ZTF_CVs.copy())\n",
    "df_ZTF_CVs.head()\n",
    "df_ZTF_CVs['labels_2'].value_counts()"
   ]
  },
  {
   "cell_type": "code",
   "execution_count": 25,
   "metadata": {},
   "outputs": [
    {
     "name": "stdout",
     "output_type": "stream",
     "text": [
      "Number of objects: 46\n",
      "0 ZTF23aaaairl nova AT 2023ax 10.78841667 41.28394444\n",
      "Lasair apparent magnitude\n"
     ]
    },
    {
     "data": {
      "application/vnd.plotly.v1+json": {
       "config": {
        "plotlyServerURL": "https://plot.ly"
       },
       "data": [
        {
         "hovertemplate": "Filter=1<br>Julian Date=%{x}<br>apparant magnitude=%{y}<extra></extra>",
         "legendgroup": "1",
         "marker": {
          "color": "green",
          "opacity": 0.75,
          "symbol": "circle"
         },
         "mode": "markers",
         "name": "1",
         "orientation": "v",
         "showlegend": true,
         "type": "scatter",
         "x": [
          2459951.6377083,
          2459956.7815972,
          2459958.7687616,
          2459967.6837847,
          2459969.6757176
         ],
         "xaxis": "x",
         "y": [
          17.449041857887174,
          17.125937103667873,
          17.931966931700874,
          18.989807091042245,
          19.04651381654756
         ],
         "yaxis": "y"
        },
        {
         "hovertemplate": "Filter=2<br>Julian Date=%{x}<br>apparant magnitude=%{y}<extra></extra>",
         "legendgroup": "2",
         "marker": {
          "color": "red",
          "opacity": 0.75,
          "symbol": "circle"
         },
         "mode": "markers",
         "name": "2",
         "orientation": "v",
         "showlegend": true,
         "type": "scatter",
         "x": [
          2459951.7641898,
          2459956.6391782,
          2459958.641956,
          2459967.638588,
          2459969.644213,
          2459980.6214583,
          2459984.6114815
         ],
         "xaxis": "x",
         "y": [
          17.212144308501983,
          17.15317798228465,
          17.592463962224414,
          18.440123465554915,
          18.831543082994457,
          19.207021081839738,
          19.28391536212118
         ],
         "yaxis": "y"
        }
       ],
       "layout": {
        "font": {
         "size": 10
        },
        "height": 250,
        "legend": {
         "title": {
          "text": "Filter"
         },
         "tracegroupgap": 0
        },
        "margin": {
         "b": 20,
         "l": 20,
         "r": 20,
         "t": 20
        },
        "template": {
         "data": {
          "bar": [
           {
            "error_x": {
             "color": "#2a3f5f"
            },
            "error_y": {
             "color": "#2a3f5f"
            },
            "marker": {
             "line": {
              "color": "#E5ECF6",
              "width": 0.5
             },
             "pattern": {
              "fillmode": "overlay",
              "size": 10,
              "solidity": 0.2
             }
            },
            "type": "bar"
           }
          ],
          "barpolar": [
           {
            "marker": {
             "line": {
              "color": "#E5ECF6",
              "width": 0.5
             },
             "pattern": {
              "fillmode": "overlay",
              "size": 10,
              "solidity": 0.2
             }
            },
            "type": "barpolar"
           }
          ],
          "carpet": [
           {
            "aaxis": {
             "endlinecolor": "#2a3f5f",
             "gridcolor": "white",
             "linecolor": "white",
             "minorgridcolor": "white",
             "startlinecolor": "#2a3f5f"
            },
            "baxis": {
             "endlinecolor": "#2a3f5f",
             "gridcolor": "white",
             "linecolor": "white",
             "minorgridcolor": "white",
             "startlinecolor": "#2a3f5f"
            },
            "type": "carpet"
           }
          ],
          "choropleth": [
           {
            "colorbar": {
             "outlinewidth": 0,
             "ticks": ""
            },
            "type": "choropleth"
           }
          ],
          "contour": [
           {
            "colorbar": {
             "outlinewidth": 0,
             "ticks": ""
            },
            "colorscale": [
             [
              0,
              "#0d0887"
             ],
             [
              0.1111111111111111,
              "#46039f"
             ],
             [
              0.2222222222222222,
              "#7201a8"
             ],
             [
              0.3333333333333333,
              "#9c179e"
             ],
             [
              0.4444444444444444,
              "#bd3786"
             ],
             [
              0.5555555555555556,
              "#d8576b"
             ],
             [
              0.6666666666666666,
              "#ed7953"
             ],
             [
              0.7777777777777778,
              "#fb9f3a"
             ],
             [
              0.8888888888888888,
              "#fdca26"
             ],
             [
              1,
              "#f0f921"
             ]
            ],
            "type": "contour"
           }
          ],
          "contourcarpet": [
           {
            "colorbar": {
             "outlinewidth": 0,
             "ticks": ""
            },
            "type": "contourcarpet"
           }
          ],
          "heatmap": [
           {
            "colorbar": {
             "outlinewidth": 0,
             "ticks": ""
            },
            "colorscale": [
             [
              0,
              "#0d0887"
             ],
             [
              0.1111111111111111,
              "#46039f"
             ],
             [
              0.2222222222222222,
              "#7201a8"
             ],
             [
              0.3333333333333333,
              "#9c179e"
             ],
             [
              0.4444444444444444,
              "#bd3786"
             ],
             [
              0.5555555555555556,
              "#d8576b"
             ],
             [
              0.6666666666666666,
              "#ed7953"
             ],
             [
              0.7777777777777778,
              "#fb9f3a"
             ],
             [
              0.8888888888888888,
              "#fdca26"
             ],
             [
              1,
              "#f0f921"
             ]
            ],
            "type": "heatmap"
           }
          ],
          "heatmapgl": [
           {
            "colorbar": {
             "outlinewidth": 0,
             "ticks": ""
            },
            "colorscale": [
             [
              0,
              "#0d0887"
             ],
             [
              0.1111111111111111,
              "#46039f"
             ],
             [
              0.2222222222222222,
              "#7201a8"
             ],
             [
              0.3333333333333333,
              "#9c179e"
             ],
             [
              0.4444444444444444,
              "#bd3786"
             ],
             [
              0.5555555555555556,
              "#d8576b"
             ],
             [
              0.6666666666666666,
              "#ed7953"
             ],
             [
              0.7777777777777778,
              "#fb9f3a"
             ],
             [
              0.8888888888888888,
              "#fdca26"
             ],
             [
              1,
              "#f0f921"
             ]
            ],
            "type": "heatmapgl"
           }
          ],
          "histogram": [
           {
            "marker": {
             "pattern": {
              "fillmode": "overlay",
              "size": 10,
              "solidity": 0.2
             }
            },
            "type": "histogram"
           }
          ],
          "histogram2d": [
           {
            "colorbar": {
             "outlinewidth": 0,
             "ticks": ""
            },
            "colorscale": [
             [
              0,
              "#0d0887"
             ],
             [
              0.1111111111111111,
              "#46039f"
             ],
             [
              0.2222222222222222,
              "#7201a8"
             ],
             [
              0.3333333333333333,
              "#9c179e"
             ],
             [
              0.4444444444444444,
              "#bd3786"
             ],
             [
              0.5555555555555556,
              "#d8576b"
             ],
             [
              0.6666666666666666,
              "#ed7953"
             ],
             [
              0.7777777777777778,
              "#fb9f3a"
             ],
             [
              0.8888888888888888,
              "#fdca26"
             ],
             [
              1,
              "#f0f921"
             ]
            ],
            "type": "histogram2d"
           }
          ],
          "histogram2dcontour": [
           {
            "colorbar": {
             "outlinewidth": 0,
             "ticks": ""
            },
            "colorscale": [
             [
              0,
              "#0d0887"
             ],
             [
              0.1111111111111111,
              "#46039f"
             ],
             [
              0.2222222222222222,
              "#7201a8"
             ],
             [
              0.3333333333333333,
              "#9c179e"
             ],
             [
              0.4444444444444444,
              "#bd3786"
             ],
             [
              0.5555555555555556,
              "#d8576b"
             ],
             [
              0.6666666666666666,
              "#ed7953"
             ],
             [
              0.7777777777777778,
              "#fb9f3a"
             ],
             [
              0.8888888888888888,
              "#fdca26"
             ],
             [
              1,
              "#f0f921"
             ]
            ],
            "type": "histogram2dcontour"
           }
          ],
          "mesh3d": [
           {
            "colorbar": {
             "outlinewidth": 0,
             "ticks": ""
            },
            "type": "mesh3d"
           }
          ],
          "parcoords": [
           {
            "line": {
             "colorbar": {
              "outlinewidth": 0,
              "ticks": ""
             }
            },
            "type": "parcoords"
           }
          ],
          "pie": [
           {
            "automargin": true,
            "type": "pie"
           }
          ],
          "scatter": [
           {
            "fillpattern": {
             "fillmode": "overlay",
             "size": 10,
             "solidity": 0.2
            },
            "type": "scatter"
           }
          ],
          "scatter3d": [
           {
            "line": {
             "colorbar": {
              "outlinewidth": 0,
              "ticks": ""
             }
            },
            "marker": {
             "colorbar": {
              "outlinewidth": 0,
              "ticks": ""
             }
            },
            "type": "scatter3d"
           }
          ],
          "scattercarpet": [
           {
            "marker": {
             "colorbar": {
              "outlinewidth": 0,
              "ticks": ""
             }
            },
            "type": "scattercarpet"
           }
          ],
          "scattergeo": [
           {
            "marker": {
             "colorbar": {
              "outlinewidth": 0,
              "ticks": ""
             }
            },
            "type": "scattergeo"
           }
          ],
          "scattergl": [
           {
            "marker": {
             "colorbar": {
              "outlinewidth": 0,
              "ticks": ""
             }
            },
            "type": "scattergl"
           }
          ],
          "scattermapbox": [
           {
            "marker": {
             "colorbar": {
              "outlinewidth": 0,
              "ticks": ""
             }
            },
            "type": "scattermapbox"
           }
          ],
          "scatterpolar": [
           {
            "marker": {
             "colorbar": {
              "outlinewidth": 0,
              "ticks": ""
             }
            },
            "type": "scatterpolar"
           }
          ],
          "scatterpolargl": [
           {
            "marker": {
             "colorbar": {
              "outlinewidth": 0,
              "ticks": ""
             }
            },
            "type": "scatterpolargl"
           }
          ],
          "scatterternary": [
           {
            "marker": {
             "colorbar": {
              "outlinewidth": 0,
              "ticks": ""
             }
            },
            "type": "scatterternary"
           }
          ],
          "surface": [
           {
            "colorbar": {
             "outlinewidth": 0,
             "ticks": ""
            },
            "colorscale": [
             [
              0,
              "#0d0887"
             ],
             [
              0.1111111111111111,
              "#46039f"
             ],
             [
              0.2222222222222222,
              "#7201a8"
             ],
             [
              0.3333333333333333,
              "#9c179e"
             ],
             [
              0.4444444444444444,
              "#bd3786"
             ],
             [
              0.5555555555555556,
              "#d8576b"
             ],
             [
              0.6666666666666666,
              "#ed7953"
             ],
             [
              0.7777777777777778,
              "#fb9f3a"
             ],
             [
              0.8888888888888888,
              "#fdca26"
             ],
             [
              1,
              "#f0f921"
             ]
            ],
            "type": "surface"
           }
          ],
          "table": [
           {
            "cells": {
             "fill": {
              "color": "#EBF0F8"
             },
             "line": {
              "color": "white"
             }
            },
            "header": {
             "fill": {
              "color": "#C8D4E3"
             },
             "line": {
              "color": "white"
             }
            },
            "type": "table"
           }
          ]
         },
         "layout": {
          "annotationdefaults": {
           "arrowcolor": "#2a3f5f",
           "arrowhead": 0,
           "arrowwidth": 1
          },
          "autotypenumbers": "strict",
          "coloraxis": {
           "colorbar": {
            "outlinewidth": 0,
            "ticks": ""
           }
          },
          "colorscale": {
           "diverging": [
            [
             0,
             "#8e0152"
            ],
            [
             0.1,
             "#c51b7d"
            ],
            [
             0.2,
             "#de77ae"
            ],
            [
             0.3,
             "#f1b6da"
            ],
            [
             0.4,
             "#fde0ef"
            ],
            [
             0.5,
             "#f7f7f7"
            ],
            [
             0.6,
             "#e6f5d0"
            ],
            [
             0.7,
             "#b8e186"
            ],
            [
             0.8,
             "#7fbc41"
            ],
            [
             0.9,
             "#4d9221"
            ],
            [
             1,
             "#276419"
            ]
           ],
           "sequential": [
            [
             0,
             "#0d0887"
            ],
            [
             0.1111111111111111,
             "#46039f"
            ],
            [
             0.2222222222222222,
             "#7201a8"
            ],
            [
             0.3333333333333333,
             "#9c179e"
            ],
            [
             0.4444444444444444,
             "#bd3786"
            ],
            [
             0.5555555555555556,
             "#d8576b"
            ],
            [
             0.6666666666666666,
             "#ed7953"
            ],
            [
             0.7777777777777778,
             "#fb9f3a"
            ],
            [
             0.8888888888888888,
             "#fdca26"
            ],
            [
             1,
             "#f0f921"
            ]
           ],
           "sequentialminus": [
            [
             0,
             "#0d0887"
            ],
            [
             0.1111111111111111,
             "#46039f"
            ],
            [
             0.2222222222222222,
             "#7201a8"
            ],
            [
             0.3333333333333333,
             "#9c179e"
            ],
            [
             0.4444444444444444,
             "#bd3786"
            ],
            [
             0.5555555555555556,
             "#d8576b"
            ],
            [
             0.6666666666666666,
             "#ed7953"
            ],
            [
             0.7777777777777778,
             "#fb9f3a"
            ],
            [
             0.8888888888888888,
             "#fdca26"
            ],
            [
             1,
             "#f0f921"
            ]
           ]
          },
          "colorway": [
           "#636efa",
           "#EF553B",
           "#00cc96",
           "#ab63fa",
           "#FFA15A",
           "#19d3f3",
           "#FF6692",
           "#B6E880",
           "#FF97FF",
           "#FECB52"
          ],
          "font": {
           "color": "#2a3f5f"
          },
          "geo": {
           "bgcolor": "white",
           "lakecolor": "white",
           "landcolor": "#E5ECF6",
           "showlakes": true,
           "showland": true,
           "subunitcolor": "white"
          },
          "hoverlabel": {
           "align": "left"
          },
          "hovermode": "closest",
          "mapbox": {
           "style": "light"
          },
          "paper_bgcolor": "white",
          "plot_bgcolor": "#E5ECF6",
          "polar": {
           "angularaxis": {
            "gridcolor": "white",
            "linecolor": "white",
            "ticks": ""
           },
           "bgcolor": "#E5ECF6",
           "radialaxis": {
            "gridcolor": "white",
            "linecolor": "white",
            "ticks": ""
           }
          },
          "scene": {
           "xaxis": {
            "backgroundcolor": "#E5ECF6",
            "gridcolor": "white",
            "gridwidth": 2,
            "linecolor": "white",
            "showbackground": true,
            "ticks": "",
            "zerolinecolor": "white"
           },
           "yaxis": {
            "backgroundcolor": "#E5ECF6",
            "gridcolor": "white",
            "gridwidth": 2,
            "linecolor": "white",
            "showbackground": true,
            "ticks": "",
            "zerolinecolor": "white"
           },
           "zaxis": {
            "backgroundcolor": "#E5ECF6",
            "gridcolor": "white",
            "gridwidth": 2,
            "linecolor": "white",
            "showbackground": true,
            "ticks": "",
            "zerolinecolor": "white"
           }
          },
          "shapedefaults": {
           "line": {
            "color": "#2a3f5f"
           }
          },
          "ternary": {
           "aaxis": {
            "gridcolor": "white",
            "linecolor": "white",
            "ticks": ""
           },
           "baxis": {
            "gridcolor": "white",
            "linecolor": "white",
            "ticks": ""
           },
           "bgcolor": "#E5ECF6",
           "caxis": {
            "gridcolor": "white",
            "linecolor": "white",
            "ticks": ""
           }
          },
          "title": {
           "x": 0.05
          },
          "xaxis": {
           "automargin": true,
           "gridcolor": "white",
           "linecolor": "white",
           "ticks": "",
           "title": {
            "standoff": 15
           },
           "zerolinecolor": "white",
           "zerolinewidth": 2
          },
          "yaxis": {
           "automargin": true,
           "gridcolor": "white",
           "linecolor": "white",
           "ticks": "",
           "title": {
            "standoff": 15
           },
           "zerolinecolor": "white",
           "zerolinewidth": 2
          }
         }
        },
        "width": 1000,
        "xaxis": {
         "anchor": "y",
         "domain": [
          0,
          1
         ],
         "tickformat": "float",
         "title": {
          "text": "Julian Date"
         }
        },
        "yaxis": {
         "anchor": "x",
         "autorange": "reversed",
         "domain": [
          0,
          1
         ],
         "title": {
          "text": "apparant magnitude"
         }
        }
       }
      }
     },
     "metadata": {},
     "output_type": "display_data"
    }
   ],
   "source": [
    "\n",
    "date = '2023_03_25'\n",
    "object = 'ZTF18aakynpt'\n",
    "class_list = ['nova']\n",
    "display_start = 0\n",
    "display_end = 1\n",
    "label_scheme = 'labels_2'\n",
    "\n",
    "# Apply errorbars\n",
    "error = False\n",
    "\n",
    "if error == True:\n",
    "        errColalerce1 = 'sigmapsf'\n",
    "        errColalerce2 = 'sigmapsf_corr_revised'\n",
    "        errCollasair1 = 'sigmapsf'\n",
    "        errCollasair2 = 'dc_sigmag'\n",
    "else:\n",
    "    errColalerce1 = None\n",
    "    errColalerce2 = None\n",
    "    errCollasair1 = None\n",
    "    errCollasair2 = None\n",
    "\n",
    "# objlist = df_ZTF_CVs[df_ZTF_CVs[label_scheme].str.contains('DQ', na=False)]['Xmatch_obj'].iloc[display_start:display_end]\n",
    "# objtype = df_ZTF_CVs[df_ZTF_CVs[label_scheme].str.contains('DQ', na=False)][label_scheme].iloc[display_start:display_end]\n",
    "# name = df_ZTF_CVs[df_ZTF_CVs[label_scheme].str.contains('DQ', na=False)]['Name'].iloc[display_start:display_end]\n",
    "\n",
    "print(f'Number of objects: {df_ZTF_CVs[df_ZTF_CVs[label_scheme].isin(class_list)].shape[0]}')\n",
    "\n",
    "objlist = df_ZTF_CVs[df_ZTF_CVs[label_scheme].isin(class_list)]['oid_ztf'].iloc[display_start:display_end]\n",
    "objtype = df_ZTF_CVs[df_ZTF_CVs[label_scheme].isin(class_list)][label_scheme].iloc[display_start:display_end]\n",
    "name = df_ZTF_CVs[df_ZTF_CVs[label_scheme].isin(class_list)]['oid_aavso'].iloc[display_start:display_end]\n",
    "ra = df_ZTF_CVs[df_ZTF_CVs[label_scheme].isin(class_list)]['ra'].iloc[display_start:display_end]\n",
    "dec = df_ZTF_CVs[df_ZTF_CVs[label_scheme].isin(class_list)]['dec'].iloc[display_start:display_end]\n",
    "\n",
    "i=0\n",
    "for object, type, name, ra, dec in zip(objlist, objtype, name, ra, dec):\n",
    "\n",
    "    print(i, object, type, name, ra, dec)\n",
    "    \n",
    "    # Display lasair difference magnitude and apparent magnitude light curves.\n",
    "    lc_lasair = load_lasair_lc(object, path=f'../lightcurves_dataset/lasair_{date}')\n",
    "    lc_lasair_appmag = lasair_clean(lc_lasair, limit=25, magerrlim=1)\n",
    "\n",
    "    # print('Lasair difference magnitude')\n",
    "    # display_lightcurve(lc_lasair,x='jd',y='magpsf',errorCol=errCollasair1)\n",
    "    print('Lasair apparent magnitude')\n",
    "    display_lightcurve(lc_lasair_appmag,x='jd',y='dc_mag',errorCol=errCollasair2)\n",
    "    i+=1"
   ]
  },
  {
   "attachments": {},
   "cell_type": "markdown",
   "metadata": {},
   "source": [
    "### View individual light curve"
   ]
  },
  {
   "cell_type": "code",
   "execution_count": 32,
   "metadata": {},
   "outputs": [
    {
     "name": "stdout",
     "output_type": "stream",
     "text": [
      "Not in dataset\n",
      "0 ZTF18abtmjhk\n",
      "downloading light curve ZTF18abtmjhk\n",
      "Lasair apparent magnitude\n"
     ]
    },
    {
     "data": {
      "application/vnd.plotly.v1+json": {
       "config": {
        "plotlyServerURL": "https://plot.ly"
       },
       "data": [
        {
         "hovertemplate": "Filter=1<br>Julian Date=%{x}<br>apparant magnitude=%{y}<extra></extra>",
         "legendgroup": "1",
         "marker": {
          "color": "green",
          "opacity": 0.75,
          "symbol": "circle"
         },
         "mode": "markers",
         "name": "1",
         "orientation": "v",
         "showlegend": true,
         "type": "scatter",
         "x": [
          2458367.9099653,
          2458370.8845255,
          2458373.9042593,
          2458376.9509954,
          2458379.9501968,
          2458382.9505093,
          2458385.9738889,
          2458397.8691204,
          2458425.8857755,
          2458428.7218056,
          2458431.7425347,
          2458434.763287,
          2458437.9048958,
          2458441.7653125,
          2458483.6482407,
          2458490.6183449,
          2458493.6966782,
          2458503.6764699,
          2458507.6735764,
          2458510.6577778,
          2458534.641875,
          2458538.6347569,
          2458667.9503588,
          2458670.9474537,
          2458673.9683333,
          2458676.9301273,
          2458685.9707639,
          2458688.9740972,
          2458691.9687269,
          2458694.9422454,
          2458697.9814005,
          2458700.9667361,
          2458703.9856597,
          2458706.9736458,
          2458709.9893056,
          2458712.9883565,
          2458718.9433912,
          2458721.9248264,
          2458724.9786227,
          2458727.9415856,
          2458733.9624537,
          2458736.9648148,
          2458740.0130671,
          2458743.9129167,
          2458746.8894907,
          2458749.8255671,
          2458756.9053125,
          2458759.9099306,
          2458763.9022106,
          2458766.9251968,
          2458769.9876273,
          2458772.7302778,
          2458781.8812384,
          2458787.8580556,
          2458789.8622569,
          2458790.801088,
          2458791.7701736,
          2458791.8049421,
          2458794.7680903,
          2458795.7571181,
          2458802.7057176,
          2458802.7376389,
          2458803.6912847,
          2458804.7015046,
          2458805.7060301,
          2458806.6991435,
          2458811.7192708,
          2458811.7390856,
          2458812.8287384,
          2458813.6778588,
          2458813.6911574,
          2458819.7185764,
          2458820.7195023,
          2458830.6825,
          2458831.6437269,
          2458831.6959259,
          2458836.635162,
          2458846.7191898,
          2458849.5955093,
          2458849.6440046,
          2458859.6184144,
          2458862.636875,
          2458864.6121644,
          2458871.6762616,
          2458874.6540625,
          2458877.691412,
          2458879.622963,
          2458880.6141551,
          2458886.6951157,
          2458893.6591898,
          2458896.6793519,
          2458899.6630324,
          2458904.6376852,
          2458913.6182292,
          2459036.9814468,
          2459046.9746759,
          2459049.9522917,
          2459052.9715625,
          2459055.9352894,
          2459060.9818634,
          2459060.9923495,
          2459063.944213,
          2459066.9341667,
          2459067.9661227,
          2459068.981331,
          2459068.9950463,
          2459069.8889352,
          2459071.9612037,
          2459071.9644907,
          2459072.9435764,
          2459072.9502662,
          2459073.9034144,
          2459073.9348264,
          2459075.9245023,
          2459075.945463,
          2459076.9679398,
          2459076.9788542,
          2459077.9250347,
          2459079.9733449,
          2459080.9517361,
          2459080.9709491,
          2459081.9754514,
          2459082.8822222,
          2459082.9438194,
          2459084.9688194,
          2459085.9046412,
          2459085.9521991,
          2459086.9917708,
          2459087.0103704,
          2459089.0099421,
          2459089.9047801,
          2459090.8775,
          2459091.8747917,
          2459092.851956,
          2459093.9455324,
          2459096.9771759,
          2459097.9350694,
          2459106.9970602,
          2459107.867662,
          2459107.8783912,
          2459109.8535648,
          2459110.8444676,
          2459111.8526389,
          2459113.882338,
          2459116.8053241,
          2459117.8092245,
          2459118.9691435,
          2459119.8446181,
          2459119.8730208,
          2459121.7989236,
          2459122.7868403,
          2459123.9163079,
          2459125.9103241,
          2459129.8436343,
          2459131.8508218,
          2459134.7842361,
          2459136.8989815,
          2459140.9017245,
          2459142.8928472,
          2459144.8888889,
          2459150.8879051,
          2459152.8626968,
          2459155.7244213,
          2459164.850463,
          2459166.9026042,
          2459168.717963,
          2459170.7215856,
          2459172.7466319,
          2459175.800787,
          2459177.8846991,
          2459179.7327662,
          2459181.716713,
          2459185.6937963,
          2459187.6327662,
          2459189.6601968,
          2459194.7263889,
          2459199.7790625,
          2459202.7233102,
          2459204.7550347,
          2459210.7201273,
          2459216.6646759,
          2459218.7265856,
          2459220.7022338,
          2459224.6945139,
          2459226.7083796,
          2459228.6755093,
          2459230.6774537,
          2459232.7205093,
          2459248.6334838,
          2459250.6422685,
          2459252.6420949,
          2459254.7078704,
          2459260.6807176,
          2459263.6373032,
          2459265.6567361,
          2459274.6426157,
          2459276.6813542,
          2459412.9626505,
          2459422.9663194,
          2459424.9515856,
          2459429.9514931,
          2459434.9512616,
          2459438.9489236,
          2459440.9539352,
          2459443.9517014,
          2459449.9542824,
          2459452.9718866,
          2459454.9123264,
          2459460.9011343,
          2459462.9768866,
          2459464.9534028,
          2459466.9226505,
          2459470.8899653,
          2459472.9252083,
          2459474.9108912,
          2459477.8422106,
          2459488.8727199,
          2459497.8919329,
          2459501.9375579,
          2459503.9479051,
          2459505.7207986,
          2459512.9044097,
          2459518.778669,
          2459521.715,
          2459523.8083796,
          2459525.7180787,
          2459527.7254167,
          2459530.7811574,
          2459532.7421181,
          2459622.7167361,
          2459627.6803009,
          2459640.660463,
          2459780.9315046,
          2459780.9564815,
          2459787.9531366,
          2459793.9685764,
          2459796.9679398,
          2459798.9255324,
          2459803.9518866,
          2459842.9523727,
          2459844.958669,
          2459847.8799769,
          2459849.9477199,
          2459851.9879745,
          2459854.8928819,
          2459856.8256134,
          2459858.9293634,
          2459860.9728472,
          2459866.7896644,
          2459869.8899074,
          2459871.8621296,
          2459873.8840278,
          2459876.9330324,
          2459878.8915046,
          2459880.7560069,
          2459882.8810648,
          2459885.7697685,
          2459895.7842824,
          2459901.7296528,
          2459903.7159375,
          2459905.7125694,
          2459910.7214815,
          2459913.8257523,
          2459928.7066898,
          2459956.7578819,
          2459968.6733912,
          2459970.7704861,
          2459972.640787,
          2459977.6539699,
          2459982.658912,
          2459991.7049306
         ],
         "xaxis": "x",
         "y": [
          19.187520013488598,
          19.18614454944397,
          19.23125407018615,
          19.288553035119037,
          19.283847372401336,
          19.322525987512318,
          19.764304909728196,
          19.537007353804963,
          19.766383552379864,
          19.780902889355122,
          19.698935248753582,
          19.802144023116156,
          19.803866716455097,
          19.804238190197108,
          19.980130765149706,
          20.147816054256754,
          20.12365630555901,
          20.312992309719817,
          20.25084305275014,
          20.686547848513722,
          20.118287041654433,
          20.97465943262971,
          20.65837956052297,
          20.564195364042924,
          20.481362440833664,
          20.82565013863585,
          20.70324502397893,
          20.63983776551437,
          20.581504294832133,
          20.560004241712008,
          20.4133413237465,
          20.59880558864223,
          20.682526461564123,
          20.695470179316633,
          20.55792308368283,
          20.31969644528256,
          20.612390234160006,
          20.426556572479072,
          20.6662187293289,
          20.699146008872123,
          20.449683047699317,
          20.603186441945404,
          20.47160082135366,
          20.797761991882247,
          20.542105880229016,
          20.650603471146447,
          20.54654815156228,
          20.685341015028843,
          20.68092004376315,
          20.67017264464399,
          20.47285506030491,
          20.335922283150648,
          20.659161778495093,
          20.322031501175264,
          20.4966983519169,
          20.719428600814325,
          20.762772620720146,
          20.625068828775998,
          20.442100614445305,
          20.465992151790694,
          20.737195346874948,
          20.20376361688793,
          20.533297712841136,
          20.90505595198698,
          20.69262273787324,
          20.772499922867045,
          20.857852938986625,
          20.584006128838016,
          20.63945887590758,
          20.64099003154429,
          20.58938921672422,
          20.614241537700487,
          20.64712732693263,
          20.86867833716136,
          20.514633590199086,
          20.535660299333756,
          20.96745207768101,
          20.588668124510157,
          20.79639281206675,
          20.68372939265877,
          20.570864060964105,
          20.481362440833664,
          20.660720874272094,
          20.62393770920998,
          21.08625236208541,
          20.803734173985553,
          20.591914422661958,
          21.09888783306137,
          20.687764061280795,
          20.616472660454463,
          20.86374245171317,
          20.65565107117871,
          20.69587438494906,
          20.49928630361886,
          20.72278169787527,
          20.858338374612934,
          20.751409943211442,
          20.85053780836897,
          20.74491509273721,
          20.82329411243581,
          20.915428871232535,
          20.098542918641343,
          20.69059563759295,
          20.40782585125909,
          20.975211290814446,
          20.376607573962758,
          20.84714677092524,
          20.50577928039675,
          20.898384739334013,
          20.7959397892917,
          20.591914422661958,
          20.934929024706395,
          20.794112615080714,
          20.706536571878942,
          20.520589200930136,
          20.660720874272094,
          20.85931937859356,
          20.93014617158648,
          20.680117947165108,
          20.633744813581817,
          20.755328261554226,
          21.064551354003484,
          20.466300436489973,
          20.707781002478043,
          20.656430822110046,
          20.93759475548093,
          20.70119311037694,
          20.99888895548748,
          20.72446708301083,
          20.669380416750517,
          20.784593919756826,
          20.711089708766977,
          20.555147378844612,
          20.348180463375996,
          20.70612739966989,
          20.4159682881369,
          20.35221646923859,
          20.94026827910554,
          20.757510787078594,
          21.01211884288256,
          21.173615646107258,
          21.026718309568597,
          20.63907287156973,
          20.649828963736315,
          21.059049970780244,
          20.813460638639945,
          20.797308272481153,
          20.720259677362005,
          20.59444714969972,
          20.4372848134928,
          20.73123307751649,
          20.773841252041493,
          20.55307816818797,
          21.073785113130995,
          20.884668301640005,
          20.838966845772827,
          20.82565013863585,
          20.90505595198698,
          20.607225014194622,
          20.79639281206675,
          20.7959397892917,
          20.53262299295822,
          20.456410292858287,
          20.63450498065968,
          20.598076474307145,
          20.700778614454936,
          20.614984598845897,
          20.507740853537847,
          20.46723192167019,
          21.09254278361471,
          20.924333157679193,
          21.072546301380555,
          21.17223834110323,
          20.53532514046095,
          21.202969936266555,
          20.837049711905266,
          21.408814972130344,
          20.905577209933007,
          20.86472935318314,
          20.32255189944926,
          20.732504990784555,
          20.65721127744206,
          20.787755512523436,
          20.807890953056315,
          20.806964570087708,
          20.841850239886433,
          20.587591060351276,
          20.5410865656133,
          20.68132519295147,
          21.102703389786626,
          20.661505214161906,
          20.75184077086078,
          20.765419530744424,
          21.04334341574902,
          21.147821744155916,
          20.460109548887523,
          20.998094185488483,
          20.93439071774712,
          20.77830428754719,
          20.552045466941202,
          21.14714497691978,
          20.973546111368357,
          20.86967065091911,
          20.8032774057046,
          20.895315429744077,
          20.605752956466592,
          20.881146872082084,
          20.920654972705627,
          20.794112615080714,
          21.02612361471081,
          20.842813430841286,
          20.857852938986625,
          20.771169090541,
          21.00462498936529,
          20.790478135228426,
          20.720259677362005,
          20.855411059283092,
          21.021435530493555,
          20.952127506407724,
          20.815327908881386,
          20.70119311037694,
          20.661505214161906,
          21.17223834110323,
          20.615728306095523,
          20.983604089753904,
          20.707363369391683,
          21.03915917688241,
          20.824705185442358,
          21.19942938305481,
          20.616841532991383,
          20.40119755730104,
          20.81206717574051,
          20.6662187293289,
          20.860301450965583,
          20.664252268823127,
          20.798678860915125,
          20.83419075493824,
          20.84088808006627,
          20.681960051649263,
          20.829910278623935,
          21.073785113130995,
          20.89277042552561,
          20.768513407227825,
          20.874639121845032,
          21.170863034606576,
          20.726574350742805,
          20.93759475548093,
          20.887190638108134,
          20.993762211619014,
          20.897360482938325,
          20.885168359890542,
          20.952127506407724,
          20.614241537700487,
          20.895315429744077,
          20.760577080739267,
          20.94996640513054,
          21.303151848471195,
          20.989407346890495,
          20.507410486993592,
          20.724884917067786,
          20.786401629049468,
          20.976890123596156,
          20.93386287545453,
          21.06149361550382,
          20.538708656431936,
          20.851028579643636,
          20.440294942771583,
          21.18817939724835,
          20.996039664641284,
          20.458563225479146,
          20.958662388912906
         ],
         "yaxis": "y"
        },
        {
         "hovertemplate": "Filter=2<br>Julian Date=%{x}<br>apparant magnitude=%{y}<extra></extra>",
         "legendgroup": "2",
         "marker": {
          "color": "red",
          "opacity": 0.75,
          "symbol": "circle"
         },
         "mode": "markers",
         "name": "2",
         "orientation": "v",
         "showlegend": true,
         "type": "scatter",
         "x": [
          2458434.7967245,
          2458437.8028241,
          2458455.7704051,
          2458455.7982176,
          2458461.7704514,
          2458464.7808912,
          2458480.8063889,
          2458483.5986574,
          2458486.6381597,
          2458490.680081,
          2458493.6441782,
          2458503.6344676,
          2458510.619375,
          2458514.6229167,
          2458523.6631829,
          2458534.6242361,
          2458538.6118056,
          2458547.6391551,
          2458654.9465972,
          2458667.9745255,
          2458670.970787,
          2458673.9570718,
          2458676.9683102,
          2458679.9883449,
          2458682.9310417,
          2458685.9557407,
          2458688.932338,
          2458691.9277662,
          2458697.9285648,
          2458700.951412,
          2458703.9503935,
          2458706.9878125,
          2458709.909537,
          2458712.945787,
          2458715.9566667,
          2458718.9834606,
          2458724.9130093,
          2458727.9931713,
          2458730.9255093,
          2458733.9100694,
          2458737.0051968,
          2458743.8599653,
          2458749.8044907,
          2458759.8701736,
          2458763.8698727,
          2458766.9967361,
          2458769.8589815,
          2458775.6957176,
          2458778.8262153,
          2458787.7745949,
          2458789.7655093,
          2458791.8473264,
          2458792.862338,
          2458793.8714352,
          2458794.8206713,
          2458795.8167477,
          2458796.7996991,
          2458797.8276736,
          2458798.7468403,
          2458799.7368866,
          2458799.8071759,
          2458801.7729745,
          2458803.7666204,
          2458803.7769792,
          2458804.7262153,
          2458805.7280556,
          2458805.8399421,
          2458806.7415394,
          2458811.6606944,
          2458812.6870602,
          2458812.6946065,
          2458814.6775347,
          2458814.7078819,
          2458819.7584259,
          2458830.7811227,
          2458831.5733333,
          2458833.6006597,
          2458833.7823495,
          2458836.6001042,
          2458846.6365278,
          2458849.6870718,
          2458852.6616204,
          2458854.6603472,
          2458859.6782292,
          2458859.7144676,
          2458860.6515972,
          2458861.6588773,
          2458867.6128704,
          2458873.705706,
          2458874.6372454,
          2458877.6331829,
          2458879.5942708,
          2458880.6580671,
          2458882.635544,
          2458883.6842245,
          2458887.6030787,
          2458891.6002894,
          2458896.6242361,
          2458899.6193981,
          2458904.6848611,
          2458913.6621991,
          2459046.950787,
          2459049.9331366,
          2459052.9315046,
          2459055.9676157,
          2459060.9490278,
          2459061.8885995,
          2459064.9021528,
          2459065.9117245,
          2459066.9671875,
          2459067.9523148,
          2459068.9155671,
          2459068.9224306,
          2459069.9647801,
          2459069.9723958,
          2459071.8813657,
          2459072.9858449,
          2459073.9692708,
          2459075.971956,
          2459076.928912,
          2459076.9365741,
          2459077.9430324,
          2459080.9870139,
          2459081.0081829,
          2459081.9346875,
          2459081.9524653,
          2459082.9785069,
          2459083.0032176,
          2459084.9959028,
          2459085.0046181,
          2459085.9739699,
          2459086.9089468,
          2459086.9272685,
          2459087.9305208,
          2459088.912963,
          2459089.964537,
          2459090.9778356,
          2459091.9760069,
          2459093.8925116,
          2459094.8466435,
          2459095.8869213,
          2459096.8436111,
          2459097.9721644,
          2459102.9153241,
          2459104.9004745,
          2459107.936169,
          2459109.9004051,
          2459110.9414352,
          2459110.9468866,
          2459112.8681481,
          2459113.8282986,
          2459113.9300231,
          2459114.9117593,
          2459115.8334491,
          2459116.8489236,
          2459116.9008218,
          2459117.8621296,
          2459118.7841782,
          2459122.8908796,
          2459123.8397685,
          2459124.788912,
          2459125.8210185,
          2459126.8496875,
          2459129.9771528,
          2459134.9274421,
          2459136.8248727,
          2459138.8409954,
          2459140.7590972,
          2459142.7914236,
          2459144.9150694,
          2459150.7794444,
          2459152.900081,
          2459155.7573843,
          2459157.9302546,
          2459164.9773958,
          2459166.8237269,
          2459168.7848032,
          2459170.7605556,
          2459181.7766782,
          2459185.723125,
          2459187.7227315,
          2459189.726412,
          2459194.6567014,
          2459197.7014352,
          2459199.725544,
          2459202.7620718,
          2459204.6727431,
          2459210.7850694,
          2459216.7258681,
          2459218.6814931,
          2459220.7182639,
          2459222.6974074,
          2459224.6146181,
          2459226.6568981,
          2459230.6397106,
          2459232.6521412,
          2459248.6803704,
          2459250.6756944,
          2459252.6765509,
          2459254.6651157,
          2459256.6588542,
          2459260.6550347,
          2459263.6760185,
          2459265.6377894,
          2459267.6408449,
          2459269.6453704,
          2459271.641412,
          2459276.6431019,
          2459279.6436111,
          2459373.9704514,
          2459373.9728125,
          2459373.975162,
          2459373.9775231,
          2459373.9798727,
          2459374.9695255,
          2459375.9711343,
          2459375.9759606,
          2459375.9807755,
          2459376.9696181,
          2459376.9720255,
          2459376.9744329,
          2459376.9768403,
          2459377.9708333,
          2459377.9732176,
          2459377.9756019,
          2459377.9779861,
          2459377.9803588,
          2459378.9714583,
          2459378.9738426,
          2459378.9762269,
          2459378.9786111,
          2459378.9809954,
          2459379.9710995,
          2459379.9734838,
          2459379.9758681,
          2459379.9782523,
          2459382.9696875,
          2459382.972037,
          2459382.9743981,
          2459382.9767477,
          2459382.9791088,
          2459390.9624884,
          2459390.9645023,
          2459390.9665046,
          2459390.9685069,
          2459390.9705208,
          2459391.9627083,
          2459391.9647338,
          2459391.9667593,
          2459391.9687847,
          2459391.9708102,
          2459392.9631134,
          2459392.9670486,
          2459392.9690162,
          2459412.9236343,
          2459417.9623495,
          2459422.9264583,
          2459424.9076852,
          2459429.9021181,
          2459434.9730787,
          2459438.9719676,
          2459440.9692824,
          2459443.9720602,
          2459449.8885995,
          2459454.9303241,
          2459458.8688079,
          2459460.8687731,
          2459462.9057292,
          2459464.9025926,
          2459466.8870023,
          2459468.8903704,
          2459470.9396759,
          2459472.8827894,
          2459474.8227894,
          2459477.7889352,
          2459479.9156713,
          2459488.8417477,
          2459491.7380671,
          2459497.947581,
          2459503.9020486,
          2459505.8013194,
          2459512.8248032,
          2459518.8008218,
          2459521.7886806,
          2459523.7213079,
          2459525.7741667,
          2459527.7826505,
          2459530.8465856,
          2459532.8475116,
          2459540.8315162,
          2459622.6760532,
          2459624.660544,
          2459627.6409491,
          2459629.6406019,
          2459640.7204861,
          2459737.9740856,
          2459737.9787963,
          2459738.9775926,
          2459739.9695023,
          2459739.9719213,
          2459739.9767708,
          2459739.9792014,
          2459740.9699537,
          2459740.9723727,
          2459740.9748032,
          2459740.9772222,
          2459740.9796412,
          2459741.9710995,
          2459741.9735185,
          2459741.9759375,
          2459741.9783796,
          2459741.9807986,
          2459742.9740394,
          2459743.9700231,
          2459743.972419,
          2459743.9772106,
          2459744.9715046,
          2459744.981088,
          2459747.9708565,
          2459747.9755903,
          2459747.977963,
          2459748.9710648,
          2459748.9734375,
          2459748.9781713,
          2459749.9717708,
          2459749.9741319,
          2459749.9765046,
          2459749.9788657,
          2459749.9812384,
          2459787.9315509,
          2459798.9634144,
          2459801.972338,
          2459803.9326389,
          2459842.9009144,
          2459844.9088773,
          2459847.9021412,
          2459849.8393981,
          2459851.8573148,
          2459854.8466435,
          2459856.8895718,
          2459858.8707755,
          2459860.9271181,
          2459864.8388657,
          2459866.8687616,
          2459869.8456481,
          2459873.828044,
          2459876.8220255,
          2459878.7840741,
          2459880.6809028,
          2459882.7951852,
          2459895.7228819,
          2459899.8114005,
          2459901.7558565,
          2459907.6839815,
          2459910.6775231,
          2459913.7845833,
          2459922.7877662,
          2459928.6869907,
          2459958.6647338,
          2459966.6778125,
          2459970.7052315,
          2459972.7013079,
          2459980.6878935,
          2459982.6436574,
          2459984.658831,
          2459991.6825231,
          2459994.6532407,
          2460013.6970023,
          2460108.9696412,
          2460108.972037,
          2460108.9744329,
          2460108.9768287,
          2460108.9792245,
          2460109.9703009,
          2460109.9727083,
          2460109.9750926,
          2460109.9774884,
          2460109.9798843,
          2460110.97,
          2460110.9723958,
          2460110.9747801,
          2460110.9771759,
          2460110.9795833,
          2460111.9692708,
          2460111.9712616,
          2460111.9736343,
          2460111.9759954,
          2460111.9783681,
          2460112.9712153,
          2460112.973588,
          2460112.9759491,
          2460112.9806829,
          2460113.9724306,
          2460113.9771644,
          2460113.979537
         ],
         "xaxis": "x",
         "y": [
          19.357302416177628,
          19.45537010458098,
          19.571771434366955,
          19.57772996732006,
          19.591604767470542,
          19.606351077720937,
          19.70399315499464,
          19.756527385388136,
          19.60735472768354,
          19.703397891087242,
          19.66671401718235,
          19.956723485786,
          19.83498936600341,
          19.791572037376874,
          20.060014872662805,
          19.707579675169715,
          19.98686352194007,
          19.98391863468925,
          20.197849430800385,
          19.91293107927502,
          20.01163253831464,
          20.033937606449545,
          20.104862255185033,
          20.635245329831204,
          20.24541786680399,
          19.81212867535903,
          19.979522572642765,
          20.032953755436353,
          20.12756103470139,
          20.083676515998828,
          20.2861030419273,
          20.05919729025922,
          19.961510228074182,
          20.198341082189305,
          20.055943855064534,
          20.358791431022006,
          19.9109461909736,
          20.07050629381012,
          20.171792719626318,
          20.11601193481566,
          20.199817918681568,
          20.356386874316414,
          20.131596494544404,
          20.319764838472757,
          20.024934327965873,
          20.143158697708774,
          20.25328431179735,
          20.219504023435665,
          20.084099081935033,
          19.911939485194946,
          20.167533334370145,
          20.05027936662848,
          19.94917147488654,
          20.016614666880265,
          19.958845725874458,
          20.24986401385382,
          19.940143766009044,
          19.978065632917183,
          20.274108108588113,
          20.368771363683983,
          19.650622314917573,
          19.909954353399794,
          20.596529133169327,
          20.381340535409535,
          20.058792731716192,
          20.10943457777242,
          19.980986033077013,
          20.09344507718709,
          20.225074017023953,
          19.973709454341712,
          20.193201292084208,
          19.826793741327666,
          20.01163253831464,
          19.964539218058704,
          19.996328650392364,
          19.97226110444498,
          20.15096788645433,
          19.938937807705535,
          20.040073705658813,
          20.38474840808526,
          20.100745958173004,
          20.30443841536162,
          20.101611086605566,
          19.998578077524648,
          20.01873427470089,
          20.094301718426163,
          19.866368329663423,
          19.85275707879586,
          19.978611196048977,
          20.05209198000196,
          20.104642859992516,
          20.06782006783996,
          20.156295956837994,
          20.13974163860171,
          20.4366162466384,
          20.165883807864237,
          20.12532372437088,
          20.104208400299036,
          20.088119515886017,
          19.89124701190037,
          20.69696479923188,
          20.159557152313724,
          20.198341082189305,
          20.073829360365703,
          20.08875526315686,
          20.11799818430214,
          20.0185429949353,
          20.01796211251969,
          20.09751683266316,
          20.380721904610848,
          20.425779356690693,
          20.29521809372238,
          20.171792719626318,
          20.165412528580227,
          20.10247722453206,
          20.17631263339078,
          20.23659554369827,
          20.019120668733446,
          20.043858269031325,
          20.05431871079818,
          20.221272631909493,
          20.149121098613794,
          20.10399333331659,
          20.083254192352857,
          20.13430463240026,
          20.20302038576258,
          20.27438165052214,
          20.162595430775646,
          20.103774194469672,
          20.101396770367494,
          20.197114878988714,
          20.191741710518343,
          20.245940517024863,
          20.04246145000152,
          20.33072294575993,
          20.30388111757839,
          20.219754372057885,
          20.204010614223613,
          20.107687051189103,
          19.810001425815514,
          19.967581446757173,
          20.166355378797988,
          20.26603230467666,
          20.10572804903748,
          20.19100831680959,
          20.232223834838152,
          20.24333570269563,
          19.92362067660826,
          20.252756756886306,
          20.23556788471852,
          20.232483197529845,
          20.1129336073016,
          20.110305710822555,
          20.1168949955006,
          20.166355378797988,
          20.078420801875005,
          20.077374949747927,
          20.426762678198585,
          19.983365432429746,
          20.315193706851304,
          19.98575642718315,
          20.143158697708774,
          20.4961641625458,
          20.300236114648342,
          20.356386874316414,
          20.11491167355247,
          20.21396886416918,
          20.120877501094657,
          20.1680059271065,
          20.118221546621378,
          20.208226169155814,
          20.860268355399498,
          20.69384132833545,
          19.85579261503106,
          20.322918165897896,
          20.215475851307218,
          20.099668019855827,
          20.096013890410727,
          20.805678395090467,
          20.333341400040453,
          20.117118028270905,
          20.05736689980801,
          20.322342419536866,
          20.893546187662302,
          20.332175361798235,
          20.21321885389422,
          20.156761619213906,
          20.165412528580227,
          20.153048711165074,
          20.31377155930184,
          20.340361944674573,
          20.19515793346292,
          20.212216787644355,
          19.93876710735282,
          20.20574420672719,
          20.259901134946166,
          20.933279776860306,
          20.05108313122824,
          20.101829588004186,
          20.216731513823852,
          20.240734564437663,
          19.929197408075154,
          20.408038529686642,
          19.957077303554186,
          20.139286330871894,
          20.326954435836583,
          20.22253769920333,
          20.313484178869956,
          19.980051853556414,
          20.359692102908447,
          20.462450336053042,
          20.08262316943184,
          19.981352375529,
          20.398829968945122,
          19.848082407279215,
          20.207979511583485,
          20.002900554157627,
          20.272216545532547,
          20.111620589974038,
          20.03650494239345,
          20.48840076947179,
          19.84898596212576,
          20.4765341645414,
          20.48840076947179,
          20.390038761292058,
          20.680577157033213,
          20.212717658954247,
          20.100745958173004,
          20.40326098965145,
          20.57331610968874,
          20.780301527259542,
          19.947946290542205,
          20.36938102702218,
          20.50328966781725,
          20.155135262523597,
          20.886904930484054,
          20.20203613068564,
          20.462450336053042,
          20.325511376056873,
          20.551093196498197,
          20.257775274631868,
          20.22203045965241,
          20.490158625773805,
          19.944816652183132,
          20.407399520531392,
          20.351309179356893,
          20.374876852619984,
          20.24151647567743,
          20.35728488978675,
          20.05777066686909,
          19.835138271780824,
          20.020860184493433,
          20.127334869836318,
          19.923787637679627,
          20.247505569252535,
          20.257775274631868,
          20.24855400322935,
          20.493685337670232,
          20.195400530357034,
          20.18230302780655,
          20.181340312231576,
          20.257244703970674,
          20.28035594324081,
          20.1680059271065,
          20.333925050609032,
          20.343011828067574,
          20.22076621598122,
          20.36270539132037,
          20.091311870404667,
          20.168951991993485,
          20.148203777757068,
          20.30500146550319,
          20.246986862463103,
          20.483495472910775,
          20.150277012350415,
          20.301917593838414,
          20.08642551680729,
          20.487697309885835,
          20.15397192098501,
          20.247246173035535,
          20.06596401991779,
          20.280631647569315,
          20.33304695543928,
          20.09708652406344,
          20.3415398483991,
          20.22000961803431,
          20.29855816360665,
          20.42643270014532,
          20.148664493757092,
          20.477228376086817,
          20.299676406253173,
          20.458029643065785,
          20.045257789999916,
          20.345963828040684,
          20.96971861874951,
          20.48454230586166,
          20.65761935542716,
          20.24203157746921,
          20.243072719635073,
          20.170843129044094,
          20.072579957875337,
          20.25592235944459,
          20.084731371117407,
          20.14590439700875,
          20.07716755301178,
          20.070300830180194,
          20.132949344462467,
          19.918924059376394,
          20.053912991642413,
          20.157223128401704,
          20.0985916459583,
          19.86838161011613,
          20.373959287719874,
          20.392544385035,
          19.943949640705558,
          19.98208214087045,
          20.00782536288419,
          20.396311177965337,
          19.97334708547188,
          20.22177937763967,
          20.608974338747565,
          20.21022128794212,
          19.82042635528294,
          20.58977274396138,
          20.208976111054774,
          20.528327289617685,
          19.89850485679024,
          20.41380580573577,
          20.28629690085344,
          20.319764838472757,
          20.230942965891877,
          20.28775497428387,
          20.599721068689163,
          20.29438657784135,
          20.319191341846228,
          20.24986401385382,
          20.275461255528235,
          20.32004900723743,
          20.22711292139946,
          20.436282339424928,
          20.614251001491432,
          20.400414916213727,
          20.46826105430704,
          20.43529400251505,
          20.316901434868907,
          20.179660749691624,
          20.3593879431118,
          20.302756985888884,
          20.14156127488419,
          20.576430898404002,
          20.35279899659749,
          20.383819733833786,
          20.315193706851304,
          20.150734590973936,
          20.228387515058586,
          20.252495622484798,
          20.530169802146116,
          20.363010791474974,
          20.3501170193162,
          20.16447532519053,
          20.369985332653076,
          20.371206928486536,
          20.34863210608013,
          20.084731371117407,
          20.078005476256564,
          20.288306380836172,
          20.223804825654096,
          20.81774086248344,
          20.314623459917527,
          20.301917593838414,
          19.73947175456,
          20.232223834838152,
          20.395369362134375,
          20.129128992410088,
          20.113595172852023,
          20.353995098682617,
          19.994651596506493,
          20.97479480014563,
          20.31576435872443,
          20.420255858459143,
          20.388479586561367,
          20.52943794731846,
          20.228387515058586,
          20.425779356690693,
          20.562136610958518,
          20.353396827771885,
          20.32263298293274,
          20.38972907150907,
          20.12443491619699,
          20.060221359921396,
          20.71183831904151,
          20.340361944674573,
          20.232992386013763,
          20.375186836162968,
          20.409622966870522
         ],
         "yaxis": "y"
        }
       ],
       "layout": {
        "font": {
         "size": 10
        },
        "height": 250,
        "legend": {
         "title": {
          "text": "Filter"
         },
         "tracegroupgap": 0
        },
        "margin": {
         "b": 20,
         "l": 20,
         "r": 20,
         "t": 20
        },
        "template": {
         "data": {
          "bar": [
           {
            "error_x": {
             "color": "#2a3f5f"
            },
            "error_y": {
             "color": "#2a3f5f"
            },
            "marker": {
             "line": {
              "color": "#E5ECF6",
              "width": 0.5
             },
             "pattern": {
              "fillmode": "overlay",
              "size": 10,
              "solidity": 0.2
             }
            },
            "type": "bar"
           }
          ],
          "barpolar": [
           {
            "marker": {
             "line": {
              "color": "#E5ECF6",
              "width": 0.5
             },
             "pattern": {
              "fillmode": "overlay",
              "size": 10,
              "solidity": 0.2
             }
            },
            "type": "barpolar"
           }
          ],
          "carpet": [
           {
            "aaxis": {
             "endlinecolor": "#2a3f5f",
             "gridcolor": "white",
             "linecolor": "white",
             "minorgridcolor": "white",
             "startlinecolor": "#2a3f5f"
            },
            "baxis": {
             "endlinecolor": "#2a3f5f",
             "gridcolor": "white",
             "linecolor": "white",
             "minorgridcolor": "white",
             "startlinecolor": "#2a3f5f"
            },
            "type": "carpet"
           }
          ],
          "choropleth": [
           {
            "colorbar": {
             "outlinewidth": 0,
             "ticks": ""
            },
            "type": "choropleth"
           }
          ],
          "contour": [
           {
            "colorbar": {
             "outlinewidth": 0,
             "ticks": ""
            },
            "colorscale": [
             [
              0,
              "#0d0887"
             ],
             [
              0.1111111111111111,
              "#46039f"
             ],
             [
              0.2222222222222222,
              "#7201a8"
             ],
             [
              0.3333333333333333,
              "#9c179e"
             ],
             [
              0.4444444444444444,
              "#bd3786"
             ],
             [
              0.5555555555555556,
              "#d8576b"
             ],
             [
              0.6666666666666666,
              "#ed7953"
             ],
             [
              0.7777777777777778,
              "#fb9f3a"
             ],
             [
              0.8888888888888888,
              "#fdca26"
             ],
             [
              1,
              "#f0f921"
             ]
            ],
            "type": "contour"
           }
          ],
          "contourcarpet": [
           {
            "colorbar": {
             "outlinewidth": 0,
             "ticks": ""
            },
            "type": "contourcarpet"
           }
          ],
          "heatmap": [
           {
            "colorbar": {
             "outlinewidth": 0,
             "ticks": ""
            },
            "colorscale": [
             [
              0,
              "#0d0887"
             ],
             [
              0.1111111111111111,
              "#46039f"
             ],
             [
              0.2222222222222222,
              "#7201a8"
             ],
             [
              0.3333333333333333,
              "#9c179e"
             ],
             [
              0.4444444444444444,
              "#bd3786"
             ],
             [
              0.5555555555555556,
              "#d8576b"
             ],
             [
              0.6666666666666666,
              "#ed7953"
             ],
             [
              0.7777777777777778,
              "#fb9f3a"
             ],
             [
              0.8888888888888888,
              "#fdca26"
             ],
             [
              1,
              "#f0f921"
             ]
            ],
            "type": "heatmap"
           }
          ],
          "heatmapgl": [
           {
            "colorbar": {
             "outlinewidth": 0,
             "ticks": ""
            },
            "colorscale": [
             [
              0,
              "#0d0887"
             ],
             [
              0.1111111111111111,
              "#46039f"
             ],
             [
              0.2222222222222222,
              "#7201a8"
             ],
             [
              0.3333333333333333,
              "#9c179e"
             ],
             [
              0.4444444444444444,
              "#bd3786"
             ],
             [
              0.5555555555555556,
              "#d8576b"
             ],
             [
              0.6666666666666666,
              "#ed7953"
             ],
             [
              0.7777777777777778,
              "#fb9f3a"
             ],
             [
              0.8888888888888888,
              "#fdca26"
             ],
             [
              1,
              "#f0f921"
             ]
            ],
            "type": "heatmapgl"
           }
          ],
          "histogram": [
           {
            "marker": {
             "pattern": {
              "fillmode": "overlay",
              "size": 10,
              "solidity": 0.2
             }
            },
            "type": "histogram"
           }
          ],
          "histogram2d": [
           {
            "colorbar": {
             "outlinewidth": 0,
             "ticks": ""
            },
            "colorscale": [
             [
              0,
              "#0d0887"
             ],
             [
              0.1111111111111111,
              "#46039f"
             ],
             [
              0.2222222222222222,
              "#7201a8"
             ],
             [
              0.3333333333333333,
              "#9c179e"
             ],
             [
              0.4444444444444444,
              "#bd3786"
             ],
             [
              0.5555555555555556,
              "#d8576b"
             ],
             [
              0.6666666666666666,
              "#ed7953"
             ],
             [
              0.7777777777777778,
              "#fb9f3a"
             ],
             [
              0.8888888888888888,
              "#fdca26"
             ],
             [
              1,
              "#f0f921"
             ]
            ],
            "type": "histogram2d"
           }
          ],
          "histogram2dcontour": [
           {
            "colorbar": {
             "outlinewidth": 0,
             "ticks": ""
            },
            "colorscale": [
             [
              0,
              "#0d0887"
             ],
             [
              0.1111111111111111,
              "#46039f"
             ],
             [
              0.2222222222222222,
              "#7201a8"
             ],
             [
              0.3333333333333333,
              "#9c179e"
             ],
             [
              0.4444444444444444,
              "#bd3786"
             ],
             [
              0.5555555555555556,
              "#d8576b"
             ],
             [
              0.6666666666666666,
              "#ed7953"
             ],
             [
              0.7777777777777778,
              "#fb9f3a"
             ],
             [
              0.8888888888888888,
              "#fdca26"
             ],
             [
              1,
              "#f0f921"
             ]
            ],
            "type": "histogram2dcontour"
           }
          ],
          "mesh3d": [
           {
            "colorbar": {
             "outlinewidth": 0,
             "ticks": ""
            },
            "type": "mesh3d"
           }
          ],
          "parcoords": [
           {
            "line": {
             "colorbar": {
              "outlinewidth": 0,
              "ticks": ""
             }
            },
            "type": "parcoords"
           }
          ],
          "pie": [
           {
            "automargin": true,
            "type": "pie"
           }
          ],
          "scatter": [
           {
            "fillpattern": {
             "fillmode": "overlay",
             "size": 10,
             "solidity": 0.2
            },
            "type": "scatter"
           }
          ],
          "scatter3d": [
           {
            "line": {
             "colorbar": {
              "outlinewidth": 0,
              "ticks": ""
             }
            },
            "marker": {
             "colorbar": {
              "outlinewidth": 0,
              "ticks": ""
             }
            },
            "type": "scatter3d"
           }
          ],
          "scattercarpet": [
           {
            "marker": {
             "colorbar": {
              "outlinewidth": 0,
              "ticks": ""
             }
            },
            "type": "scattercarpet"
           }
          ],
          "scattergeo": [
           {
            "marker": {
             "colorbar": {
              "outlinewidth": 0,
              "ticks": ""
             }
            },
            "type": "scattergeo"
           }
          ],
          "scattergl": [
           {
            "marker": {
             "colorbar": {
              "outlinewidth": 0,
              "ticks": ""
             }
            },
            "type": "scattergl"
           }
          ],
          "scattermapbox": [
           {
            "marker": {
             "colorbar": {
              "outlinewidth": 0,
              "ticks": ""
             }
            },
            "type": "scattermapbox"
           }
          ],
          "scatterpolar": [
           {
            "marker": {
             "colorbar": {
              "outlinewidth": 0,
              "ticks": ""
             }
            },
            "type": "scatterpolar"
           }
          ],
          "scatterpolargl": [
           {
            "marker": {
             "colorbar": {
              "outlinewidth": 0,
              "ticks": ""
             }
            },
            "type": "scatterpolargl"
           }
          ],
          "scatterternary": [
           {
            "marker": {
             "colorbar": {
              "outlinewidth": 0,
              "ticks": ""
             }
            },
            "type": "scatterternary"
           }
          ],
          "surface": [
           {
            "colorbar": {
             "outlinewidth": 0,
             "ticks": ""
            },
            "colorscale": [
             [
              0,
              "#0d0887"
             ],
             [
              0.1111111111111111,
              "#46039f"
             ],
             [
              0.2222222222222222,
              "#7201a8"
             ],
             [
              0.3333333333333333,
              "#9c179e"
             ],
             [
              0.4444444444444444,
              "#bd3786"
             ],
             [
              0.5555555555555556,
              "#d8576b"
             ],
             [
              0.6666666666666666,
              "#ed7953"
             ],
             [
              0.7777777777777778,
              "#fb9f3a"
             ],
             [
              0.8888888888888888,
              "#fdca26"
             ],
             [
              1,
              "#f0f921"
             ]
            ],
            "type": "surface"
           }
          ],
          "table": [
           {
            "cells": {
             "fill": {
              "color": "#EBF0F8"
             },
             "line": {
              "color": "white"
             }
            },
            "header": {
             "fill": {
              "color": "#C8D4E3"
             },
             "line": {
              "color": "white"
             }
            },
            "type": "table"
           }
          ]
         },
         "layout": {
          "annotationdefaults": {
           "arrowcolor": "#2a3f5f",
           "arrowhead": 0,
           "arrowwidth": 1
          },
          "autotypenumbers": "strict",
          "coloraxis": {
           "colorbar": {
            "outlinewidth": 0,
            "ticks": ""
           }
          },
          "colorscale": {
           "diverging": [
            [
             0,
             "#8e0152"
            ],
            [
             0.1,
             "#c51b7d"
            ],
            [
             0.2,
             "#de77ae"
            ],
            [
             0.3,
             "#f1b6da"
            ],
            [
             0.4,
             "#fde0ef"
            ],
            [
             0.5,
             "#f7f7f7"
            ],
            [
             0.6,
             "#e6f5d0"
            ],
            [
             0.7,
             "#b8e186"
            ],
            [
             0.8,
             "#7fbc41"
            ],
            [
             0.9,
             "#4d9221"
            ],
            [
             1,
             "#276419"
            ]
           ],
           "sequential": [
            [
             0,
             "#0d0887"
            ],
            [
             0.1111111111111111,
             "#46039f"
            ],
            [
             0.2222222222222222,
             "#7201a8"
            ],
            [
             0.3333333333333333,
             "#9c179e"
            ],
            [
             0.4444444444444444,
             "#bd3786"
            ],
            [
             0.5555555555555556,
             "#d8576b"
            ],
            [
             0.6666666666666666,
             "#ed7953"
            ],
            [
             0.7777777777777778,
             "#fb9f3a"
            ],
            [
             0.8888888888888888,
             "#fdca26"
            ],
            [
             1,
             "#f0f921"
            ]
           ],
           "sequentialminus": [
            [
             0,
             "#0d0887"
            ],
            [
             0.1111111111111111,
             "#46039f"
            ],
            [
             0.2222222222222222,
             "#7201a8"
            ],
            [
             0.3333333333333333,
             "#9c179e"
            ],
            [
             0.4444444444444444,
             "#bd3786"
            ],
            [
             0.5555555555555556,
             "#d8576b"
            ],
            [
             0.6666666666666666,
             "#ed7953"
            ],
            [
             0.7777777777777778,
             "#fb9f3a"
            ],
            [
             0.8888888888888888,
             "#fdca26"
            ],
            [
             1,
             "#f0f921"
            ]
           ]
          },
          "colorway": [
           "#636efa",
           "#EF553B",
           "#00cc96",
           "#ab63fa",
           "#FFA15A",
           "#19d3f3",
           "#FF6692",
           "#B6E880",
           "#FF97FF",
           "#FECB52"
          ],
          "font": {
           "color": "#2a3f5f"
          },
          "geo": {
           "bgcolor": "white",
           "lakecolor": "white",
           "landcolor": "#E5ECF6",
           "showlakes": true,
           "showland": true,
           "subunitcolor": "white"
          },
          "hoverlabel": {
           "align": "left"
          },
          "hovermode": "closest",
          "mapbox": {
           "style": "light"
          },
          "paper_bgcolor": "white",
          "plot_bgcolor": "#E5ECF6",
          "polar": {
           "angularaxis": {
            "gridcolor": "white",
            "linecolor": "white",
            "ticks": ""
           },
           "bgcolor": "#E5ECF6",
           "radialaxis": {
            "gridcolor": "white",
            "linecolor": "white",
            "ticks": ""
           }
          },
          "scene": {
           "xaxis": {
            "backgroundcolor": "#E5ECF6",
            "gridcolor": "white",
            "gridwidth": 2,
            "linecolor": "white",
            "showbackground": true,
            "ticks": "",
            "zerolinecolor": "white"
           },
           "yaxis": {
            "backgroundcolor": "#E5ECF6",
            "gridcolor": "white",
            "gridwidth": 2,
            "linecolor": "white",
            "showbackground": true,
            "ticks": "",
            "zerolinecolor": "white"
           },
           "zaxis": {
            "backgroundcolor": "#E5ECF6",
            "gridcolor": "white",
            "gridwidth": 2,
            "linecolor": "white",
            "showbackground": true,
            "ticks": "",
            "zerolinecolor": "white"
           }
          },
          "shapedefaults": {
           "line": {
            "color": "#2a3f5f"
           }
          },
          "ternary": {
           "aaxis": {
            "gridcolor": "white",
            "linecolor": "white",
            "ticks": ""
           },
           "baxis": {
            "gridcolor": "white",
            "linecolor": "white",
            "ticks": ""
           },
           "bgcolor": "#E5ECF6",
           "caxis": {
            "gridcolor": "white",
            "linecolor": "white",
            "ticks": ""
           }
          },
          "title": {
           "x": 0.05
          },
          "xaxis": {
           "automargin": true,
           "gridcolor": "white",
           "linecolor": "white",
           "ticks": "",
           "title": {
            "standoff": 15
           },
           "zerolinecolor": "white",
           "zerolinewidth": 2
          },
          "yaxis": {
           "automargin": true,
           "gridcolor": "white",
           "linecolor": "white",
           "ticks": "",
           "title": {
            "standoff": 15
           },
           "zerolinecolor": "white",
           "zerolinewidth": 2
          }
         }
        },
        "width": 1000,
        "xaxis": {
         "anchor": "y",
         "domain": [
          0,
          1
         ],
         "tickformat": "float",
         "title": {
          "text": "Julian Date"
         }
        },
        "yaxis": {
         "anchor": "x",
         "autorange": "reversed",
         "domain": [
          0,
          1
         ],
         "title": {
          "text": "apparant magnitude"
         }
        }
       }
      }
     },
     "metadata": {},
     "output_type": "display_data"
    }
   ],
   "source": [
    "# Display lasair difference magnitude and apparent magnitude light curves.\n",
    "\n",
    "objects = ['ZTF18abtmjhk']\n",
    "\n",
    "for object in objects:\n",
    "    try:\n",
    "        lc_lasair = load_lasair_lc(object, path=f'../lightcurves_dataset/lasair_{date}')\n",
    "    except:\n",
    "        # Create a folder within path for LCs if one does not exist\n",
    "        if not os.path.exists(f'../lightcurves_dataset/lasair_non_dataset/cache'):\n",
    "            os.makedirs(f'../lightcurves_dataset/lasair_non_dataset/cache')\n",
    "        print('Not in dataset')\n",
    "        download_lasair_lc([object], folderpath=f'../lightcurves_dataset/lasair_non_dataset', cache=f'../lightcurves_dataset/lasair_non_dataset/cache')\n",
    "        lc_lasair = load_lasair_lc(object, path=f'../lightcurves_dataset/lasair_non_dataset')\n",
    "\n",
    "    lc_lasair_appmag = lasair_clean(lc_lasair, limit=25, magerrlim=1)\n",
    "\n",
    "    # print('Lasair difference magnitude')\n",
    "    # display_lightcurve(lc_lasair,x='jd',y='magpsf',errorCol=errCollasair1)\n",
    "    print('Lasair apparent magnitude')\n",
    "    display_lightcurve(lc_lasair_appmag,x='jd',y='dc_mag',errorCol=errCollasair2)\n"
   ]
  }
 ],
 "metadata": {
  "kernelspec": {
   "display_name": "phd",
   "language": "python",
   "name": "python3"
  },
  "language_info": {
   "codemirror_mode": {
    "name": "ipython",
    "version": 3
   },
   "file_extension": ".py",
   "mimetype": "text/x-python",
   "name": "python",
   "nbconvert_exporter": "python",
   "pygments_lexer": "ipython3",
   "version": "3.9.16"
  },
  "orig_nbformat": 4
 },
 "nbformat": 4,
 "nbformat_minor": 2
}
